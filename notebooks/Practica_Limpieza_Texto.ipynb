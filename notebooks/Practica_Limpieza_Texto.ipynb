{
 "cells": [
  {
   "cell_type": "markdown",
   "id": "a711ba19",
   "metadata": {},
   "source": [
    "#  Practica de limpieza de texto con pandas - Solución"
   ]
  },
  {
   "cell_type": "markdown",
   "id": "76bacb89",
   "metadata": {},
   "source": [
    "#### Por Jose R. Zapata - https://joserzapata.github.io/\n",
    "\n",
    "\n",
    "> **Objetivo**: practicar métodos de `pandas.Series.str` para limpiar y normalizar texto en DataFrames.\n",
    "> Cada ejercicio incluye un **Enunciado** y una celda donde se ve el resultado de la solución.\n",
    "\n",
    "\n",
    "\n",
    "# Copie su código aca\n",
    "import re\n",
    "import numpy as np\n",
    "\n",
    "def parse_talla(s):\n",
    "    \"\"\"Extrae talla en letra (talla_std) y talla numérica (talla_num) desde una descripción.\"\"\"\n",
    "    if s is None or (isinstance(s, float) and np.isnan(s)):\n",
    "        return (None, None)\n",
    "    text = str(s).strip()\n",
    "    text_up = text.upper()\n",
    "    # Primera: buscar número (ej: 42, 36, 10-12 -> tomar el primer número encontrado)\n",
    "    m_num = re.search(r'({1,3})', text)\n",
    "    talla_num = int(m_num.group(1)) if m_num else None\n",
    "\n",
    "    # Buscar tallas en letras: XS, S, M, L, XL, XXL o indicación de talla única (TU)\n",
    "    talla_std = None\n",
    "    # patrón directo (captura XS, XXL, XL, S, M, L)\n",
    "    m_letter = re.search(r'\b(XS|XXL|XL|S|M|L)\b', text_up)\n",
    "    if m_letter:\n",
    "        talla_std = m_letter.group(1)\n",
    "    else:\n",
    "        # patrones como 'TALLA: ÚNICA', 'Talla Unica', '(talla Única)' o 'TU'\n",
    "        if re.search(r'TALLA*[:]?*(ÚNICA|UNICA|TÚ|TU)|\bTU\b|ÚNICA|UNICA', text_up):\n",
    "            talla_std = 'TU'\n",
    "    # Normalizar hyphens y espacios\n",
    "    if isinstance(talla_std, str):\n",
    "        talla_std = talla_std.replace('-', '').strip().upper()\n",
    "    # Asegurar que queda en el conjunto permitido\n",
    "    allowed = {'XS','S','M','L','XL','XXL','TU'}\n",
    "    if talla_std not in allowed:\n",
    "        # si no hay talla letras válida, dejar None\n",
    "        talla_std = talla_std if talla_std in allowed else None\n",
    "\n",
    "    return (talla_std, talla_num)\n",
    "\n",
    "# Aplicar la función y crear columnas en df_productos\n",
    "df_productos[['talla_std','talla_num']] = df_productos['producto'].apply(lambda s: pd.Series(parse_talla(s)))\n",
    "df_productos\n",
    "- Documentación de `pandas.Series.str`: https://pandas.pydata.org/docs/reference/series.html#string-handling\n"
   ]
  },
  {
   "cell_type": "markdown",
   "id": "82900970",
   "metadata": {},
   "source": [
    "## Instalación de dependencias\n",
    "\n",
    "instala e importa las librerias que necesites para ejecutar los ejercicios, por ejemplo para instalar Jupyter usa:\n",
    "\n",
    "```bash\n",
    "uv add jupyter\n",
    "```\n"
   ]
  },
  {
   "cell_type": "code",
   "execution_count": 2,
   "id": "9d5c390f",
   "metadata": {},
   "outputs": [],
   "source": [
    "# Copie su código aca\n",
    "import pandas as pd\n",
    "import unicodedata\n",
    "import re, numpy as np"
   ]
  },
  {
   "cell_type": "code",
   "execution_count": 3,
   "id": "7adb03f3",
   "metadata": {},
   "outputs": [],
   "source": [
    "# Función para eliminar acentos (maneja None/NaN)\n",
    "def eliminar_acentos(s):\n",
    "    if s is None or (isinstance(s, float) and np.isnan(s)):\n",
    "        return s\n",
    "    # Normalizar a NFKD y filtrar marcas diacríticas\n",
    "    try:\n",
    "        nkfd = unicodedata.normalize(\"NFKD\", str(s))\n",
    "        return \"\".join(c for c in nkfd if not unicodedata.combining(c))\n",
    "    except Exception as e:\n",
    "        # En caso de algún valor inesperado, devolver el original\n",
    "        return s\n",
    "\n",
    "\n",
    "# Prueba rápida (no imprime en el notebook al insertar, pero sirve para quien ejecute la celda)\n",
    "_test_vals = [\"café\", \"árbol\", \"Ñandú\", None, \"año\"]\n",
    "_test_res = [eliminar_acentos(x) for x in _test_vals]\n",
    "# _test_res -> ['cafe', 'arbol', 'Nandu', None, 'ano']"
   ]
  },
  {
   "cell_type": "code",
   "execution_count": 4,
   "id": "7f835e80",
   "metadata": {},
   "outputs": [],
   "source": [
    "import pandas as pd"
   ]
  },
  {
   "cell_type": "markdown",
   "id": "d521aa48",
   "metadata": {},
   "source": [
    "## Conjuntos de datos de juguete\n",
    "Creamos 4 DataFrames para practicar distintas tareas de limpieza: texto general, tweets, productos y personas."
   ]
  },
  {
   "cell_type": "code",
   "execution_count": 5,
   "id": "1e7de665",
   "metadata": {},
   "outputs": [],
   "source": [
    "## Texto general\n",
    "df_texto = pd.DataFrame(\n",
    "    {\n",
    "        \"texto\": [\n",
    "            \"  ¡Hola Mundo!!!  Esto es   un EJEMPLO: visita https://miweb.com  #DataScience  :)  \",\n",
    "            \"Pandas > numpy? 🤔  Email: persona@example.com   \",\n",
    "            \"Me gusta el café colombiano; es buenísimo!!! #Café #Colombia @juan\",\n",
    "            \"Oferta!!! 3x2 en jabón líquido 500ml - CÓDIGO: A-123\",\n",
    "            \"      TABLAS\\t, \\n espacios   y saltos de línea.\\r\\n\",\n",
    "            \"Teléfono: (57) 300-123-45-67; Whatsapp +57 300 222 33 44\",\n",
    "            \"Dirección: Cll 10 # 5-20; Medellín. Barrio: La América\",\n",
    "            \"Emoji test: 😀🙌🏽🏳️‍🌈, símbolos ©®™ y otros…\",\n",
    "        ]\n",
    "    }\n",
    ")\n",
    "\n",
    "## Tweets\n",
    "df_tweets = pd.DataFrame(\n",
    "    {\n",
    "        \"tweet\": [\n",
    "            \"RT @maria: Nuevo post en el blog -> http://blog.com/post?id=45 #nlp #python\",\n",
    "            \"¡Me encanta Pandas! #datos #Python https://example.org @data_science 😊\",\n",
    "            \"Probando cosas en Jupyter... sin link ni hashtag\",\n",
    "            \"@juan y @ana lanzaron curso de NLP en https://cursos.ai #nlp #ml\",\n",
    "            \"¿Pandas o Polars? debátanlo aquí 👉 https://foro.com #data\",\n",
    "        ]\n",
    "    }\n",
    ")\n",
    "\n",
    "## Productos y precios\n",
    "df_productos = pd.DataFrame(\n",
    "    {\n",
    "        \"producto\": [\n",
    "            \"Camisa talla M\",\n",
    "            \"Pantalón-XL\",\n",
    "            \"Zapato, Talla: 42\",\n",
    "            \"Blusa s\",\n",
    "            \"Medias 10-12\",\n",
    "            \"Polo Talla l\",\n",
    "            \"Vestido - 36\",\n",
    "            \"Sombrero (talla Única)\",\n",
    "        ],\n",
    "        \"precio\": [\n",
    "            \"$1.234,50\",\n",
    "            \"USD 45\",\n",
    "            \"30,00 €\",\n",
    "            \"25.000\",\n",
    "            \"$ 0\",\n",
    "            \"S/. 120.90\",\n",
    "            \"COP 9.990\",\n",
    "            \"AR$ 2.550,00\",\n",
    "        ],\n",
    "    }\n",
    ")\n",
    "\n",
    "## Personas, respuestas y direcciones\n",
    "df_personas = pd.DataFrame(\n",
    "    {\n",
    "        \"nombre\": [\n",
    "            \"ana María LOPEZ\",\n",
    "            \"Juan  perez\",\n",
    "            \"Ñandú   Gómez\",\n",
    "            \"Miguel (Soporte)\",\n",
    "            \"  MÓNICA de la CRUZ  \",\n",
    "            \"luis-delgado\",\n",
    "        ],\n",
    "        \"categoria\": [\"Sí\", \"si\", \"SI \", \"No\", \"—\", None],\n",
    "        \"direccion\": [\n",
    "            \"Calle 45 # 12-34, Bogotá\",\n",
    "            \"Av. Siempre Viva 742 - Lima\",\n",
    "            \"Cll. 10 No. 5-20 Medellín\",\n",
    "            \"Cra 7a # 45-60, Bogotá\",\n",
    "            \"Av. 9 #12-34  Cali\",\n",
    "            \"Av. Insurgentes Sur 1234, CDMX\",\n",
    "        ],\n",
    "        \"id_raw\": [\n",
    "            \"abc-0001\",\n",
    "            \"abc 001\",\n",
    "            \"ABC0002\",\n",
    "            \"Abc_003\",\n",
    "            \"abc-00004\",\n",
    "            \"ABC-0005\",\n",
    "        ],\n",
    "    }\n",
    ")"
   ]
  },
  {
   "cell_type": "code",
   "execution_count": null,
   "id": "c8fe0103",
   "metadata": {},
   "outputs": [],
   "source": []
  },
  {
   "cell_type": "markdown",
   "id": "323ad06f",
   "metadata": {},
   "source": [
    "## Inspección rápida"
   ]
  },
  {
   "cell_type": "markdown",
   "id": "0a4687cd",
   "metadata": {},
   "source": [
    "- Explora los cuatro DataFrames\n",
    "- Identifica qué columnas requieren **limpieza textual** y por qué (espacios, acentos, emojis, URLs, etc.).\n",
    "- Escribe un breve comentario (como comentario en la celda) con tus observaciones."
   ]
  },
  {
   "cell_type": "code",
   "execution_count": 6,
   "id": "f3685c33",
   "metadata": {},
   "outputs": [
    {
     "name": "stdout",
     "output_type": "stream",
     "text": [
      "<class 'pandas.core.frame.DataFrame'>\n",
      "RangeIndex: 8 entries, 0 to 7\n",
      "Data columns (total 1 columns):\n",
      " #   Column  Non-Null Count  Dtype \n",
      "---  ------  --------------  ----- \n",
      " 0   texto   8 non-null      object\n",
      "dtypes: object(1)\n",
      "memory usage: 196.0+ bytes\n",
      "<class 'pandas.core.frame.DataFrame'>\n",
      "RangeIndex: 5 entries, 0 to 4\n",
      "Data columns (total 1 columns):\n",
      " #   Column  Non-Null Count  Dtype \n",
      "---  ------  --------------  ----- \n",
      " 0   tweet   5 non-null      object\n",
      "dtypes: object(1)\n",
      "memory usage: 172.0+ bytes\n",
      "<class 'pandas.core.frame.DataFrame'>\n",
      "RangeIndex: 8 entries, 0 to 7\n",
      "Data columns (total 2 columns):\n",
      " #   Column    Non-Null Count  Dtype \n",
      "---  ------    --------------  ----- \n",
      " 0   producto  8 non-null      object\n",
      " 1   precio    8 non-null      object\n",
      "dtypes: object(2)\n",
      "memory usage: 260.0+ bytes\n",
      "<class 'pandas.core.frame.DataFrame'>\n",
      "RangeIndex: 6 entries, 0 to 5\n",
      "Data columns (total 4 columns):\n",
      " #   Column     Non-Null Count  Dtype \n",
      "---  ------     --------------  ----- \n",
      " 0   nombre     6 non-null      object\n",
      " 1   categoria  5 non-null      object\n",
      " 2   direccion  6 non-null      object\n",
      " 3   id_raw     6 non-null      object\n",
      "dtypes: object(4)\n",
      "memory usage: 324.0+ bytes\n"
     ]
    }
   ],
   "source": [
    "# Copie su código aca\n",
    "df_texto.info()\n",
    "df_tweets.info()\n",
    "df_productos.info()\n",
    "df_personas.info()"
   ]
  },
  {
   "cell_type": "code",
   "execution_count": null,
   "id": "c619bf3c",
   "metadata": {},
   "outputs": [],
   "source": []
  },
  {
   "cell_type": "markdown",
   "id": "3dcd8e24",
   "metadata": {},
   "source": [
    "## 1) Normaliza a minúsculas"
   ]
  },
  {
   "cell_type": "markdown",
   "id": "ac5524f2",
   "metadata": {},
   "source": [
    "En el DataFrame `df_texto`, crea una nueva columna `texto_min` que contenga el texto de la columna `texto` en minúsculas."
   ]
  },
  {
   "cell_type": "code",
   "execution_count": null,
   "id": "fe8d45f1",
   "metadata": {},
   "outputs": [],
   "source": []
  },
  {
   "cell_type": "code",
   "execution_count": 7,
   "id": "aea376dd",
   "metadata": {},
   "outputs": [
    {
     "data": {
      "text/html": [
       "<div>\n",
       "<style scoped>\n",
       "    .dataframe tbody tr th:only-of-type {\n",
       "        vertical-align: middle;\n",
       "    }\n",
       "\n",
       "    .dataframe tbody tr th {\n",
       "        vertical-align: top;\n",
       "    }\n",
       "\n",
       "    .dataframe thead th {\n",
       "        text-align: right;\n",
       "    }\n",
       "</style>\n",
       "<table border=\"1\" class=\"dataframe\">\n",
       "  <thead>\n",
       "    <tr style=\"text-align: right;\">\n",
       "      <th></th>\n",
       "      <th>texto</th>\n",
       "      <th>texto_min</th>\n",
       "    </tr>\n",
       "  </thead>\n",
       "  <tbody>\n",
       "    <tr>\n",
       "      <th>0</th>\n",
       "      <td>¡Hola Mundo!!!  Esto es   un EJEMPLO: visita...</td>\n",
       "      <td>¡hola mundo!!!  esto es   un ejemplo: visita...</td>\n",
       "    </tr>\n",
       "    <tr>\n",
       "      <th>1</th>\n",
       "      <td>Pandas &gt; numpy? 🤔  Email: persona@example.com</td>\n",
       "      <td>pandas &gt; numpy? 🤔  email: persona@example.com</td>\n",
       "    </tr>\n",
       "    <tr>\n",
       "      <th>2</th>\n",
       "      <td>Me gusta el café colombiano; es buenísimo!!! #...</td>\n",
       "      <td>me gusta el café colombiano; es buenísimo!!! #...</td>\n",
       "    </tr>\n",
       "    <tr>\n",
       "      <th>3</th>\n",
       "      <td>Oferta!!! 3x2 en jabón líquido 500ml - CÓDIGO:...</td>\n",
       "      <td>oferta!!! 3x2 en jabón líquido 500ml - código:...</td>\n",
       "    </tr>\n",
       "    <tr>\n",
       "      <th>4</th>\n",
       "      <td>TABLAS\\t, \\n espacios   y saltos de líne...</td>\n",
       "      <td>tablas\\t, \\n espacios   y saltos de líne...</td>\n",
       "    </tr>\n",
       "    <tr>\n",
       "      <th>5</th>\n",
       "      <td>Teléfono: (57) 300-123-45-67; Whatsapp +57 300...</td>\n",
       "      <td>teléfono: (57) 300-123-45-67; whatsapp +57 300...</td>\n",
       "    </tr>\n",
       "    <tr>\n",
       "      <th>6</th>\n",
       "      <td>Dirección: Cll 10 # 5-20; Medellín. Barrio: La...</td>\n",
       "      <td>dirección: cll 10 # 5-20; medellín. barrio: la...</td>\n",
       "    </tr>\n",
       "    <tr>\n",
       "      <th>7</th>\n",
       "      <td>Emoji test: 😀🙌🏽🏳️‍🌈, símbolos ©®™ y otros…</td>\n",
       "      <td>emoji test: 😀🙌🏽🏳️‍🌈, símbolos ©®™ y otros…</td>\n",
       "    </tr>\n",
       "  </tbody>\n",
       "</table>\n",
       "</div>"
      ],
      "text/plain": [
       "                                               texto  \\\n",
       "0    ¡Hola Mundo!!!  Esto es   un EJEMPLO: visita...   \n",
       "1   Pandas > numpy? 🤔  Email: persona@example.com      \n",
       "2  Me gusta el café colombiano; es buenísimo!!! #...   \n",
       "3  Oferta!!! 3x2 en jabón líquido 500ml - CÓDIGO:...   \n",
       "4        TABLAS\\t, \\n espacios   y saltos de líne...   \n",
       "5  Teléfono: (57) 300-123-45-67; Whatsapp +57 300...   \n",
       "6  Dirección: Cll 10 # 5-20; Medellín. Barrio: La...   \n",
       "7         Emoji test: 😀🙌🏽🏳️‍🌈, símbolos ©®™ y otros…   \n",
       "\n",
       "                                           texto_min  \n",
       "0    ¡hola mundo!!!  esto es   un ejemplo: visita...  \n",
       "1   pandas > numpy? 🤔  email: persona@example.com     \n",
       "2  me gusta el café colombiano; es buenísimo!!! #...  \n",
       "3  oferta!!! 3x2 en jabón líquido 500ml - código:...  \n",
       "4        tablas\\t, \\n espacios   y saltos de líne...  \n",
       "5  teléfono: (57) 300-123-45-67; whatsapp +57 300...  \n",
       "6  dirección: cll 10 # 5-20; medellín. barrio: la...  \n",
       "7         emoji test: 😀🙌🏽🏳️‍🌈, símbolos ©®™ y otros…  "
      ]
     },
     "execution_count": 7,
     "metadata": {},
     "output_type": "execute_result"
    }
   ],
   "source": [
    "# Copie su código aca\n",
    "df_texto[\"texto_min\"] = df_texto[\"texto\"].str.lower()\n",
    "df_texto[[\"texto\", \"texto_min\"]]"
   ]
  },
  {
   "cell_type": "code",
   "execution_count": null,
   "id": "20ae9e56",
   "metadata": {},
   "outputs": [],
   "source": []
  },
  {
   "cell_type": "markdown",
   "id": "da8780c8",
   "metadata": {},
   "source": [
    "## 2) Eliminar Espacios"
   ]
  },
  {
   "cell_type": "markdown",
   "id": "8a2d800d",
   "metadata": {},
   "source": [
    "Genera  la columna `texto_espacios` eliminando espacios al inicio/fin"
   ]
  },
  {
   "cell_type": "code",
   "execution_count": 8,
   "id": "29d99ddd",
   "metadata": {},
   "outputs": [
    {
     "data": {
      "text/html": [
       "<div>\n",
       "<style scoped>\n",
       "    .dataframe tbody tr th:only-of-type {\n",
       "        vertical-align: middle;\n",
       "    }\n",
       "\n",
       "    .dataframe tbody tr th {\n",
       "        vertical-align: top;\n",
       "    }\n",
       "\n",
       "    .dataframe thead th {\n",
       "        text-align: right;\n",
       "    }\n",
       "</style>\n",
       "<table border=\"1\" class=\"dataframe\">\n",
       "  <thead>\n",
       "    <tr style=\"text-align: right;\">\n",
       "      <th></th>\n",
       "      <th>texto_espacios</th>\n",
       "      <th>texto_min</th>\n",
       "    </tr>\n",
       "  </thead>\n",
       "  <tbody>\n",
       "    <tr>\n",
       "      <th>0</th>\n",
       "      <td>¡hola mundo!!!  esto es   un ejemplo: visita h...</td>\n",
       "      <td>¡hola mundo!!!  esto es   un ejemplo: visita...</td>\n",
       "    </tr>\n",
       "    <tr>\n",
       "      <th>1</th>\n",
       "      <td>pandas &gt; numpy? 🤔  email: persona@example.com</td>\n",
       "      <td>pandas &gt; numpy? 🤔  email: persona@example.com</td>\n",
       "    </tr>\n",
       "    <tr>\n",
       "      <th>2</th>\n",
       "      <td>me gusta el café colombiano; es buenísimo!!! #...</td>\n",
       "      <td>me gusta el café colombiano; es buenísimo!!! #...</td>\n",
       "    </tr>\n",
       "    <tr>\n",
       "      <th>3</th>\n",
       "      <td>oferta!!! 3x2 en jabón líquido 500ml - código:...</td>\n",
       "      <td>oferta!!! 3x2 en jabón líquido 500ml - código:...</td>\n",
       "    </tr>\n",
       "    <tr>\n",
       "      <th>4</th>\n",
       "      <td>tablas\\t, \\n espacios   y saltos de línea.</td>\n",
       "      <td>tablas\\t, \\n espacios   y saltos de líne...</td>\n",
       "    </tr>\n",
       "    <tr>\n",
       "      <th>5</th>\n",
       "      <td>teléfono: (57) 300-123-45-67; whatsapp +57 300...</td>\n",
       "      <td>teléfono: (57) 300-123-45-67; whatsapp +57 300...</td>\n",
       "    </tr>\n",
       "    <tr>\n",
       "      <th>6</th>\n",
       "      <td>dirección: cll 10 # 5-20; medellín. barrio: la...</td>\n",
       "      <td>dirección: cll 10 # 5-20; medellín. barrio: la...</td>\n",
       "    </tr>\n",
       "    <tr>\n",
       "      <th>7</th>\n",
       "      <td>emoji test: 😀🙌🏽🏳️‍🌈, símbolos ©®™ y otros…</td>\n",
       "      <td>emoji test: 😀🙌🏽🏳️‍🌈, símbolos ©®™ y otros…</td>\n",
       "    </tr>\n",
       "  </tbody>\n",
       "</table>\n",
       "</div>"
      ],
      "text/plain": [
       "                                      texto_espacios  \\\n",
       "0  ¡hola mundo!!!  esto es   un ejemplo: visita h...   \n",
       "1      pandas > numpy? 🤔  email: persona@example.com   \n",
       "2  me gusta el café colombiano; es buenísimo!!! #...   \n",
       "3  oferta!!! 3x2 en jabón líquido 500ml - código:...   \n",
       "4         tablas\\t, \\n espacios   y saltos de línea.   \n",
       "5  teléfono: (57) 300-123-45-67; whatsapp +57 300...   \n",
       "6  dirección: cll 10 # 5-20; medellín. barrio: la...   \n",
       "7         emoji test: 😀🙌🏽🏳️‍🌈, símbolos ©®™ y otros…   \n",
       "\n",
       "                                           texto_min  \n",
       "0    ¡hola mundo!!!  esto es   un ejemplo: visita...  \n",
       "1   pandas > numpy? 🤔  email: persona@example.com     \n",
       "2  me gusta el café colombiano; es buenísimo!!! #...  \n",
       "3  oferta!!! 3x2 en jabón líquido 500ml - código:...  \n",
       "4        tablas\\t, \\n espacios   y saltos de líne...  \n",
       "5  teléfono: (57) 300-123-45-67; whatsapp +57 300...  \n",
       "6  dirección: cll 10 # 5-20; medellín. barrio: la...  \n",
       "7         emoji test: 😀🙌🏽🏳️‍🌈, símbolos ©®™ y otros…  "
      ]
     },
     "execution_count": 8,
     "metadata": {},
     "output_type": "execute_result"
    }
   ],
   "source": [
    "# Copie su código aca\n",
    "df_texto[\"texto_espacios\"] = df_texto[\"texto_min\"].str.strip()\n",
    "df_texto[[\"texto_espacios\", \"texto_min\"]]"
   ]
  },
  {
   "cell_type": "code",
   "execution_count": null,
   "id": "b6484565",
   "metadata": {},
   "outputs": [],
   "source": []
  },
  {
   "cell_type": "markdown",
   "id": "c4910aaa",
   "metadata": {},
   "source": [
    "## 3) Puntuación"
   ]
  },
  {
   "cell_type": "markdown",
   "id": "b1fef3aa",
   "metadata": {},
   "source": [
    "Crea `texto_sin_punct` removiendo puntuación y símbolos, conservando letras y espacios."
   ]
  },
  {
   "cell_type": "code",
   "execution_count": 9,
   "id": "91d0ea49",
   "metadata": {},
   "outputs": [
    {
     "data": {
      "text/plain": [
       "0    hola mundo  esto es   un ejemplo visita httpsm...\n",
       "1              pandas  numpy   email personaexamplecom\n",
       "2    me gusta el café colombiano es buenísimo café ...\n",
       "3       oferta 3x2 en jabón líquido 500ml  código a123\n",
       "4             tablas\\t \\n espacios   y saltos de línea\n",
       "5     teléfono 57 3001234567 whatsapp 57 300 222 33 44\n",
       "6     dirección cll 10  520 medellín barrio la américa\n",
       "7                        emoji test  símbolos  y otros\n",
       "Name: texto_sin_punct, dtype: object"
      ]
     },
     "execution_count": 9,
     "metadata": {},
     "output_type": "execute_result"
    }
   ],
   "source": [
    "# Copie su código aca\n",
    "df_texto[\"texto_sin_punct\"] = df_texto[\"texto_espacios\"].str.replace(\n",
    "    r\"[^\\w\\s]\", \"\", regex=True\n",
    ")\n",
    "df_texto[\"texto_sin_punct\"]"
   ]
  },
  {
   "cell_type": "code",
   "execution_count": null,
   "id": "22cb5935",
   "metadata": {},
   "outputs": [],
   "source": []
  },
  {
   "cell_type": "markdown",
   "id": "711bf80f",
   "metadata": {},
   "source": [
    "## 4) Acentos"
   ]
  },
  {
   "cell_type": "markdown",
   "id": "72a086e0",
   "metadata": {},
   "source": [
    "Elimina los acentos de las vocales del texto `df_texto` y grábalo en una nueva columna `texto_sin_acentos`."
   ]
  },
  {
   "cell_type": "code",
   "execution_count": 10,
   "id": "fefd04c8",
   "metadata": {},
   "outputs": [
    {
     "data": {
      "text/plain": [
       "0    hola mundo  esto es   un ejemplo visita httpsm...\n",
       "1              pandas  numpy   email personaexamplecom\n",
       "2    me gusta el cafe colombiano es buenisimo cafe ...\n",
       "3       oferta 3x2 en jabon liquido 500ml  codigo a123\n",
       "4             tablas\\t \\n espacios   y saltos de linea\n",
       "5     telefono 57 3001234567 whatsapp 57 300 222 33 44\n",
       "6     direccion cll 10  520 medellin barrio la america\n",
       "7                        emoji test  simbolos  y otros\n",
       "Name: texto_sin_acentos, dtype: object"
      ]
     },
     "execution_count": 10,
     "metadata": {},
     "output_type": "execute_result"
    }
   ],
   "source": [
    "# Copie su código aca\n",
    "def eliminar_acentos(text: str) -> str:\n",
    "    MAP_VOCALES = {\n",
    "        \"á\": \"a\",\n",
    "        \"é\": \"e\",\n",
    "        \"í\": \"i\",\n",
    "        \"ó\": \"o\",\n",
    "        \"ú\": \"u\",\n",
    "        \"ü\": \"u\",\n",
    "        \"Á\": \"A\",\n",
    "        \"É\": \"E\",\n",
    "        \"Í\": \"I\",\n",
    "        \"Ó\": \"O\",\n",
    "        \"Ú\": \"U\",\n",
    "        \"Ü\": \"U\",\n",
    "    }\n",
    "    translate = str.maketrans(MAP_VOCALES)\n",
    "    text = text.translate(translate)\n",
    "    return text\n",
    "\n",
    "\n",
    "df_texto[\"texto_sin_acentos\"] = df_texto[\"texto_sin_punct\"].apply(eliminar_acentos)\n",
    "df_texto[\"texto_sin_acentos\"]"
   ]
  },
  {
   "cell_type": "code",
   "execution_count": null,
   "id": "3f4eeddb",
   "metadata": {},
   "outputs": [],
   "source": []
  },
  {
   "cell_type": "markdown",
   "id": "9905666e",
   "metadata": {},
   "source": [
    "## 5) Emojis"
   ]
  },
  {
   "cell_type": "markdown",
   "id": "8a5a918e",
   "metadata": {},
   "source": [
    "Crear la columna `texto_sin_emoji` quitando emojis, pictogramas y símbolos gráficos comunes."
   ]
  },
  {
   "cell_type": "code",
   "execution_count": 11,
   "id": "67f975bc",
   "metadata": {},
   "outputs": [
    {
     "data": {
      "text/plain": [
       "0    ¡hola mundo!!!  esto es   un ejemplo: visita h...\n",
       "1         pandas > numpy?   email: persona@example.com\n",
       "2    me gusta el café colombiano; es buenísimo!!! #...\n",
       "3    oferta!!! 3x2 en jabón líquido 500ml - código:...\n",
       "4           tablas\\t, \\n espacios   y saltos de línea.\n",
       "5    teléfono: (57) 300-123-45-67; whatsapp +57 300...\n",
       "6    dirección: cll 10 # 5-20; medellín. barrio: la...\n",
       "7                emoji test: ️‍, símbolos ©®™ y otros…\n",
       "Name: texto_sin_emoji, dtype: object"
      ]
     },
     "execution_count": 11,
     "metadata": {},
     "output_type": "execute_result"
    }
   ],
   "source": [
    "# Copie su código aca\n",
    "quitar_emoji_pattern = re.compile(\n",
    "    \"[\\U0001f300-\\U0001faff\"  # emoticons\n",
    "    \"\\U00002700-\\U000027bf\"  # symbols & pictographs, transport & map symbols\n",
    "    \"\\U0001f1e0-\\U0001f1ff]+\",  # flags (iOS)\n",
    "    flags=re.UNICODE,\n",
    ")\n",
    "df_texto[\"texto_sin_emoji\"] = df_texto[\"texto_espacios\"].apply(\n",
    "    lambda s: quitar_emoji_pattern.sub(\"\", s)\n",
    ")\n",
    "df_texto[\"texto_sin_emoji\"]"
   ]
  },
  {
   "cell_type": "code",
   "execution_count": null,
   "id": "21fef20d",
   "metadata": {},
   "outputs": [],
   "source": []
  },
  {
   "cell_type": "markdown",
   "id": "726ece5e",
   "metadata": {},
   "source": [
    "## 6) Extrae emails y URLs"
   ]
  },
  {
   "cell_type": "markdown",
   "id": "58b3c9a9",
   "metadata": {},
   "source": [
    "En `df_texto`, crea las columnas `email` y `urls` extrayendo emails y URLs del texto original.\n",
    "\n",
    "**Patrones sugeridos:**\n",
    "- Email: `[A-Za-z0-9_.+-]+@[A-Za-z0-9-]+\\.[A-Za-z0-9.-]+`\n",
    "- URL: `https?://\\S+`"
   ]
  },
  {
   "cell_type": "code",
   "execution_count": 12,
   "id": "f345938d",
   "metadata": {},
   "outputs": [
    {
     "data": {
      "text/html": [
       "<div>\n",
       "<style scoped>\n",
       "    .dataframe tbody tr th:only-of-type {\n",
       "        vertical-align: middle;\n",
       "    }\n",
       "\n",
       "    .dataframe tbody tr th {\n",
       "        vertical-align: top;\n",
       "    }\n",
       "\n",
       "    .dataframe thead th {\n",
       "        text-align: right;\n",
       "    }\n",
       "</style>\n",
       "<table border=\"1\" class=\"dataframe\">\n",
       "  <thead>\n",
       "    <tr style=\"text-align: right;\">\n",
       "      <th></th>\n",
       "      <th>texto</th>\n",
       "      <th>email</th>\n",
       "      <th>urls</th>\n",
       "    </tr>\n",
       "  </thead>\n",
       "  <tbody>\n",
       "    <tr>\n",
       "      <th>0</th>\n",
       "      <td>¡Hola Mundo!!!  Esto es   un EJEMPLO: visita...</td>\n",
       "      <td>[]</td>\n",
       "      <td>[https://miweb.com]</td>\n",
       "    </tr>\n",
       "    <tr>\n",
       "      <th>1</th>\n",
       "      <td>Pandas &gt; numpy? 🤔  Email: persona@example.com</td>\n",
       "      <td>[persona@example.com]</td>\n",
       "      <td>[]</td>\n",
       "    </tr>\n",
       "    <tr>\n",
       "      <th>2</th>\n",
       "      <td>Me gusta el café colombiano; es buenísimo!!! #...</td>\n",
       "      <td>[]</td>\n",
       "      <td>[]</td>\n",
       "    </tr>\n",
       "    <tr>\n",
       "      <th>3</th>\n",
       "      <td>Oferta!!! 3x2 en jabón líquido 500ml - CÓDIGO:...</td>\n",
       "      <td>[]</td>\n",
       "      <td>[]</td>\n",
       "    </tr>\n",
       "    <tr>\n",
       "      <th>4</th>\n",
       "      <td>TABLAS\\t, \\n espacios   y saltos de líne...</td>\n",
       "      <td>[]</td>\n",
       "      <td>[]</td>\n",
       "    </tr>\n",
       "    <tr>\n",
       "      <th>5</th>\n",
       "      <td>Teléfono: (57) 300-123-45-67; Whatsapp +57 300...</td>\n",
       "      <td>[]</td>\n",
       "      <td>[]</td>\n",
       "    </tr>\n",
       "    <tr>\n",
       "      <th>6</th>\n",
       "      <td>Dirección: Cll 10 # 5-20; Medellín. Barrio: La...</td>\n",
       "      <td>[]</td>\n",
       "      <td>[]</td>\n",
       "    </tr>\n",
       "    <tr>\n",
       "      <th>7</th>\n",
       "      <td>Emoji test: 😀🙌🏽🏳️‍🌈, símbolos ©®™ y otros…</td>\n",
       "      <td>[]</td>\n",
       "      <td>[]</td>\n",
       "    </tr>\n",
       "  </tbody>\n",
       "</table>\n",
       "</div>"
      ],
      "text/plain": [
       "                                               texto                  email  \\\n",
       "0    ¡Hola Mundo!!!  Esto es   un EJEMPLO: visita...                     []   \n",
       "1   Pandas > numpy? 🤔  Email: persona@example.com     [persona@example.com]   \n",
       "2  Me gusta el café colombiano; es buenísimo!!! #...                     []   \n",
       "3  Oferta!!! 3x2 en jabón líquido 500ml - CÓDIGO:...                     []   \n",
       "4        TABLAS\\t, \\n espacios   y saltos de líne...                     []   \n",
       "5  Teléfono: (57) 300-123-45-67; Whatsapp +57 300...                     []   \n",
       "6  Dirección: Cll 10 # 5-20; Medellín. Barrio: La...                     []   \n",
       "7         Emoji test: 😀🙌🏽🏳️‍🌈, símbolos ©®™ y otros…                     []   \n",
       "\n",
       "                  urls  \n",
       "0  [https://miweb.com]  \n",
       "1                   []  \n",
       "2                   []  \n",
       "3                   []  \n",
       "4                   []  \n",
       "5                   []  \n",
       "6                   []  \n",
       "7                   []  "
      ]
     },
     "execution_count": 12,
     "metadata": {},
     "output_type": "execute_result"
    }
   ],
   "source": [
    "# Copie su código aca\n",
    "extraer_email = r\"\\b[A-Za-z0-9._%+-]+@[A-Za-z0-9.-]+\\.[A-Z|a-z]{2,}\\b\"\n",
    "url_url = r\"https?://[^\\s]+\"\n",
    "df_texto[\"email\"] = df_texto[\"texto\"].apply(lambda s: re.findall(extraer_email, s))\n",
    "df_texto[\"urls\"] = df_texto[\"texto\"].apply(lambda s: re.findall(url_url, s))\n",
    "df_texto[[\"texto\", \"email\", \"urls\"]]"
   ]
  },
  {
   "cell_type": "code",
   "execution_count": null,
   "id": "373d8e56",
   "metadata": {},
   "outputs": [],
   "source": []
  },
  {
   "cell_type": "markdown",
   "id": "b78960f7",
   "metadata": {},
   "source": [
    "## 7) Hashtags, menciones y URLs en tweets"
   ]
  },
  {
   "cell_type": "markdown",
   "id": "5a132f38",
   "metadata": {},
   "source": [
    "En `df_tweets`, crea las columnas `hashtags`, `mentions` y `urls`\n",
    "extrayendo hashtags, menciones y URLs del texto del tweet."
   ]
  },
  {
   "cell_type": "code",
   "execution_count": 13,
   "id": "2dd3ec83",
   "metadata": {},
   "outputs": [],
   "source": [
    "# Copie su código aca\n",
    "extraer_hashtags = r\"#\\w+\"\n",
    "extraer_mentions = r\"@\\w+\"\n",
    "extraer_urls = r\"https?://[^\\s]+\"\n",
    "df_tweets[\"hashtags\"] = df_tweets[\"tweet\"].str.findall(extraer_hashtags)\n",
    "df_tweets[\"mentions\"] = df_tweets[\"tweet\"].str.findall(extraer_mentions)\n",
    "df_tweets[\"urls\"] = df_tweets[\"tweet\"].str.findall(extraer_urls)"
   ]
  },
  {
   "cell_type": "code",
   "execution_count": null,
   "id": "1d1ba4db",
   "metadata": {},
   "outputs": [],
   "source": []
  },
  {
   "cell_type": "markdown",
   "id": "974ad5b7",
   "metadata": {},
   "source": [
    "## 8) ¿Es retuit? Limpia el prefijo"
   ]
  },
  {
   "cell_type": "markdown",
   "id": "4404ac79",
   "metadata": {},
   "source": [
    "Crea la columna `es_rt` (booleano) si el tweet comienza con `RT`. Luego genera la columna `tweet_sin_rt` quitando el prefijo `RT @usuario:` del inicio."
   ]
  },
  {
   "cell_type": "code",
   "execution_count": 14,
   "id": "0a34b64f",
   "metadata": {},
   "outputs": [],
   "source": [
    "# Copie su código aca\n",
    "df_tweets[\"es_rt\"] = df_tweets[\"tweet\"].str.startswith(\"RT\")\n",
    "df_tweets[\"tweet_sin_rt\"] = df_tweets[\"tweet\"].str.replace(\n",
    "    r\"^RT\\s+@\\w+:\\s*\", \"\", regex=True\n",
    ")"
   ]
  },
  {
   "cell_type": "code",
   "execution_count": null,
   "id": "d2f3bc54",
   "metadata": {},
   "outputs": [],
   "source": []
  },
  {
   "cell_type": "markdown",
   "id": "f65db207",
   "metadata": {},
   "source": [
    "## 9) `tweet_limpio`"
   ]
  },
  {
   "cell_type": "markdown",
   "id": "c8007258",
   "metadata": {},
   "source": [
    "Crea `tweet_limpio` removiendo URLs, menciones y hashtags; además, elimina la puntuación sobrante, quita espacios y pasa a minúsculas."
   ]
  },
  {
   "cell_type": "code",
   "execution_count": 15,
   "id": "45f27bc6",
   "metadata": {},
   "outputs": [],
   "source": [
    "# Copie su código aca\n",
    "texto_base = (\n",
    "    df_tweets[\"tweet_sin_rt\"] if \"tweet_sin_rt\" in df_tweets else df_tweets[\"tweet\"]\n",
    ")\n",
    "limpio = texto_base.str.replace(r\"https?://\\S+\", \" \", regex=True)  # Remover URLs\n",
    "limpio = limpio.str.replace(\n",
    "    r\"@\\w+|#\\w+\", \" \", regex=True\n",
    ")  # Remover menciones y hashtags\n",
    "limpio = limpio.str.replace(\n",
    "    r\"[^\\w\\sáéíóúÁÉÍÓÚñÑ]\", \" \", regex=True\n",
    ")  # Remover puntuación\n",
    "limpio = (\n",
    "    limpio.str.replace(r\"\\s+\", \" \", regex=True).str.strip().str.casefold()\n",
    ")  # Espacios y minúsculas\n",
    "df_tweets[\"tweet_limpio\"] = limpio"
   ]
  },
  {
   "cell_type": "code",
   "execution_count": null,
   "id": "948b1a4a",
   "metadata": {},
   "outputs": [],
   "source": []
  },
  {
   "cell_type": "markdown",
   "id": "10136097",
   "metadata": {},
   "source": [
    "## 10) Talla en `df_productos`"
   ]
  },
  {
   "cell_type": "markdown",
   "id": "e35f2f86",
   "metadata": {},
   "source": [
    "Extrae y estandariza la talla:\n",
    "- Letras: `XS, S, M, L, XL, XXL`, o `TU` (talla única).\n",
    "- Números: captura como `talla_num`.\n",
    "Crea la columna`talla_std` (letras) y `talla_num` (numérica)."
   ]
  },
  {
   "cell_type": "code",
   "execution_count": 16,
   "id": "958eeea1",
   "metadata": {},
   "outputs": [
    {
     "name": "stdout",
     "output_type": "stream",
     "text": [
      "                 producto        precio talla_std  talla_num\n",
      "0          Camisa talla M     $1.234,50         M        NaN\n",
      "1             Pantalón-XL        USD 45        XL        NaN\n",
      "2       Zapato, Talla: 42       30,00 €       NaN       42.0\n",
      "3                 Blusa s        25.000      None        NaN\n",
      "4            Medias 10-12           $ 0      None        NaN\n",
      "5            Polo Talla l    S/. 120.90      None        NaN\n",
      "6            Vestido - 36     COP 9.990       NaN       36.0\n",
      "7  Sombrero (talla Única)  AR$ 2.550,00      None        NaN\n"
     ]
    }
   ],
   "source": [
    "# Copie su código aca\n",
    "pat_letra = r\"\\b(XS|S|M|L|XL|XXL|XXS|XXXL|TU|TALLA ÚNICA|ÚNICA|UNICA|U)\\b\"\n",
    "pat_num = r\"\\b(\\d{1,3})\\b\"\n",
    "\n",
    "MAPEO_TALLAS = {\"XXS\": \"XS\", \"XXXL\": \"XXL\"}\n",
    "\n",
    "\n",
    "def extraer_talla(row):\n",
    "    txt = str(row[\"producto\"])\n",
    "    m1 = re.search(pat_letra, txt)\n",
    "    m2 = re.search(pat_num, txt)\n",
    "    talla_std = None\n",
    "    talla_num = None\n",
    "\n",
    "    if m1:\n",
    "        val = m1.group(1).lower()\n",
    "        talla_std = \"TU\" if val in {\"única\", \"unica\", \"u\"} else val.upper()\n",
    "        talla_std = MAPEO_TALLAS.get(talla_std, talla_std)\n",
    "\n",
    "    if m2:\n",
    "        talla_num = float(m2.group(1)) if m2.group(1) is not None else None\n",
    "        if talla_num and (talla_num < 30 or talla_num > 60):\n",
    "            talla_num = None\n",
    "\n",
    "    return pd.Series({\"talla_std\": talla_std, \"talla_num\": talla_num})\n",
    "\n",
    "\n",
    "df_productos[[\"talla_std\", \"talla_num\"]] = df_productos.apply(extraer_talla, axis=1)\n",
    "print(df_productos)"
   ]
  },
  {
   "cell_type": "code",
   "execution_count": null,
   "id": "91d5430b",
   "metadata": {},
   "outputs": [],
   "source": []
  },
  {
   "cell_type": "markdown",
   "id": "9bf0f421",
   "metadata": {},
   "source": [
    "## 11) Extraer de precios"
   ]
  },
  {
   "cell_type": "markdown",
   "id": "57bce2c0",
   "metadata": {},
   "source": [
    "Convierte la columna `precio` a numérico (`precio_num`) independiente del formato (`$1.234,50`, `USD 45`, `30,00 €`, `COP 9.990`, etc.)."
   ]
  },
  {
   "cell_type": "code",
   "execution_count": 17,
   "id": "5a3483ad",
   "metadata": {},
   "outputs": [
    {
     "name": "stdout",
     "output_type": "stream",
     "text": [
      "                 producto        precio talla_std  talla_num  precio_num\n",
      "0          Camisa talla M     $1.234,50         M        NaN     1234.50\n",
      "1             Pantalón-XL        USD 45        XL        NaN       45.00\n",
      "2       Zapato, Talla: 42       30,00 €       NaN       42.0     3000.00\n",
      "3                 Blusa s        25.000      None        NaN       25.00\n",
      "4            Medias 10-12           $ 0      None        NaN        0.00\n",
      "5            Polo Talla l    S/. 120.90      None        NaN         NaN\n",
      "6            Vestido - 36     COP 9.990       NaN       36.0        9.99\n",
      "7  Sombrero (talla Única)  AR$ 2.550,00      None        NaN     2550.00\n"
     ]
    }
   ],
   "source": [
    "# Copie su código aca\n",
    "def convertir_precio(text):\n",
    "    text = str(text).strip()\n",
    "\n",
    "    text = re.sub(r\"[A-Za-z]\", \"\", text)\n",
    "    text = text.strip()\n",
    "\n",
    "    if \",\" in text and \".\" in text:\n",
    "        if text.rfind(\",\") > text.rfind(\".\"):\n",
    "            text = text.replace(\".\", \"\").replace(\",\", \".\")\n",
    "        else:\n",
    "            text = text.replace(\",\", \"\")\n",
    "    elif \",\" in text:\n",
    "        if text.count(\",\") == 1 and len(text.split(\",\")[1]) <= 2:\n",
    "            text = text.replace(\",\", \".\")\n",
    "        else:\n",
    "            text = text.replace(\",\", \"\")\n",
    "\n",
    "    text = re.sub(r\"[^\\d.]\", \"\", text)\n",
    "\n",
    "    try:\n",
    "        return float(text) if text else None\n",
    "    except ValueError:\n",
    "        return None\n",
    "\n",
    "\n",
    "df_productos[\"precio_num\"] = df_productos[\"precio\"].apply(convertir_precio)\n",
    "print(df_productos)"
   ]
  },
  {
   "cell_type": "code",
   "execution_count": null,
   "id": "3aa405ee",
   "metadata": {},
   "outputs": [],
   "source": []
  },
  {
   "cell_type": "markdown",
   "id": "0dd72cc3",
   "metadata": {},
   "source": [
    "## 12) Filtrado por texto"
   ]
  },
  {
   "cell_type": "markdown",
   "id": "c2bd482a",
   "metadata": {},
   "source": [
    "Filtra el DataFrame `df_productos` para mostrar solo filas cuyo `producto` contenga **camisa** o **pantalón**, ignorando acentos y mayúsculas/minúsculas."
   ]
  },
  {
   "cell_type": "code",
   "execution_count": 18,
   "id": "666ec13e",
   "metadata": {},
   "outputs": [
    {
     "name": "stdout",
     "output_type": "stream",
     "text": [
      "         producto     precio talla_std  talla_num  precio_num\n",
      "0  Camisa talla M  $1.234,50         M        NaN      1234.5\n",
      "1     Pantalón-XL     USD 45        XL        NaN        45.0\n"
     ]
    }
   ],
   "source": [
    "# Copie su código aca\n",
    "mask = (\n",
    "    df_productos[\"producto\"]\n",
    "    .str.lower()\n",
    "    .apply(eliminar_acentos)\n",
    "    .str.contains(\"camisa|pantalon|chaqueta\")\n",
    ")\n",
    "\n",
    "df_filtrado = df_productos[mask]\n",
    "print(df_filtrado)"
   ]
  },
  {
   "cell_type": "code",
   "execution_count": null,
   "id": "93eee3ec",
   "metadata": {},
   "outputs": [],
   "source": []
  },
  {
   "cell_type": "markdown",
   "id": "dd80eace",
   "metadata": {},
   "source": [
    "## 13) Limpieza de nombres propios"
   ]
  },
  {
   "cell_type": "markdown",
   "id": "2ce4e997",
   "metadata": {},
   "source": [
    "En el DataFrame `df_personas`, crea `nombre_limpio` en `df_personas`:\n",
    "- Quita paréntesis y su contenido.\n",
    "- Reemplaza guiones por espacio y elimina espacios extra.\n",
    "- Aplica *title case* y conserva conectores (`de`, `del`, `la`, `y`) en minúscula."
   ]
  },
  {
   "cell_type": "code",
   "execution_count": 19,
   "id": "76262d60",
   "metadata": {},
   "outputs": [
    {
     "name": "stdout",
     "output_type": "stream",
     "text": [
      "                  nombre      nombre_limpio\n",
      "0        ana María LOPEZ    Ana María Lopez\n",
      "1            Juan  perez         Juan Perez\n",
      "2          Ñandú   Gómez        Ñandú Gómez\n",
      "3       Miguel (Soporte)             Miguel\n",
      "4    MÓNICA de la CRUZ    Mónica de la Cruz\n",
      "5           luis-delgado       Luis Delgado\n"
     ]
    }
   ],
   "source": [
    "# Copie su código aca\n",
    "def limpiar_nombre(s):\n",
    "    s = re.sub(r\"\\([^)]*\\)\", \" \", str(s))\n",
    "    s = s.replace(\"-\", \" \")\n",
    "    s = re.sub(r\"\\s+\", \" \", s).strip()\n",
    "    s = s.title()\n",
    "    for w in [\" De \", \" Del \", \" La \", \" Y \"]:\n",
    "        s = s.replace(w, w.lower())\n",
    "    return s\n",
    "\n",
    "\n",
    "df_personas[\"nombre_limpio\"] = df_personas[\"nombre\"].apply(limpiar_nombre)\n",
    "print(df_personas[[\"nombre\", \"nombre_limpio\"]])"
   ]
  },
  {
   "cell_type": "code",
   "execution_count": null,
   "id": "1b146050",
   "metadata": {},
   "outputs": [],
   "source": []
  },
  {
   "cell_type": "markdown",
   "id": "6bd0fd22",
   "metadata": {},
   "source": [
    "## 14) Normaliza respuestas categóricas"
   ]
  },
  {
   "cell_type": "markdown",
   "id": "ba4d3e48",
   "metadata": {},
   "source": [
    "En el DataFrame `df_personas`, convierte `categoria` en booleano `categoria_bool` donde cualquier variante de **sí** (con/ sin tilde) sea `True`; el resto `False`."
   ]
  },
  {
   "cell_type": "code",
   "execution_count": 25,
   "id": "5d612e7f",
   "metadata": {},
   "outputs": [],
   "source": [
    "# Copie su código aca\n",
    "def a_bool_si(s):\n",
    "    if s is None:\n",
    "        return False\n",
    "    val = str(s).strip().casefold()\n",
    "    return val in {\"si\", \"sí\", \"si.\", \"sí.\"}\n",
    "\n",
    "\n",
    "df_personas[\"categoria_bool\"] = df_personas[\"categoria\"].apply(a_bool_si)"
   ]
  },
  {
   "cell_type": "code",
   "execution_count": null,
   "id": "71b4a614",
   "metadata": {},
   "outputs": [],
   "source": []
  },
  {
   "cell_type": "markdown",
   "id": "42ce12b1",
   "metadata": {},
   "source": [
    "## 15) Ciudad desde la dirección"
   ]
  },
  {
   "cell_type": "markdown",
   "id": "78a3b10b",
   "metadata": {},
   "source": [
    "En el DataFrame `df_personas`, Extrae la **ciudad** en una columna `ciudad`"
   ]
  },
  {
   "cell_type": "code",
   "execution_count": 28,
   "id": "95b7fb8b",
   "metadata": {},
   "outputs": [],
   "source": [
    "# Copie su código aca\n",
    "def extraer_ciudad(s):\n",
    "    s = str(s)\n",
    "\n",
    "    match = re.search(\n",
    "        r\"(?:en|de|de\\s+|[|-]\\s*)([A-Za-záéíóúÁÉÍÓÚ\\s]+?)(?:\\s*[,|()]|$)\", s\n",
    "    )\n",
    "\n",
    "    if match:\n",
    "        ciudad = match.group(1).strip()\n",
    "        ciudad = re.sub(r\"\\s+\", \" \", ciudad).title()\n",
    "        return ciudad\n",
    "\n",
    "    return None\n",
    "\n",
    "df_personas[\"ciudad\"] = df_personas[\"direccion\"].apply(extraer_ciudad)"
   ]
  },
  {
   "cell_type": "code",
   "execution_count": null,
   "id": "b066c8c9",
   "metadata": {},
   "outputs": [],
   "source": []
  },
  {
   "cell_type": "markdown",
   "id": "a596654f",
   "metadata": {},
   "source": [
    "## 16) Normaliza y valida IDs"
   ]
  },
  {
   "cell_type": "markdown",
   "id": "6e76fa14",
   "metadata": {},
   "source": [
    "En el DataFrame `df_personas`, a partir de `id_raw`, crea la columna `id_norm` con formato `ABC-0001` (tres letras + guion + 4 dígitos) y `id_valido` (True/False)."
   ]
  },
  {
   "cell_type": "code",
   "execution_count": 29,
   "id": "fb0a649f",
   "metadata": {},
   "outputs": [],
   "source": [
    "# Copie su código aca\n",
    "def normalizar_id(valor):\n",
    "    patron = re.search(r\"([A-Za-z]{3})\\s*[-_ ]?\\s*(\\d+)\", str(valor))\n",
    "    if not patron:\n",
    "        return None\n",
    "    letras = patron.group(1).upper()\n",
    "    numero = int(patron.group(2))\n",
    "    return f\"{letras}-{numero:04d}\"\n",
    "\n",
    "\n",
    "df_personas[\"id_normalizado\"] = df_personas[\"id_raw\"].apply(normalizar_id)\n",
    "df_personas[\"id_valido\"] = df_personas[\"id_normalizado\"].str.match(r\"^[A-Z]{3}-\\d{4}$\")\n"
   ]
  },
  {
   "cell_type": "code",
   "execution_count": null,
   "id": "40bc0154",
   "metadata": {},
   "outputs": [],
   "source": []
  },
  {
   "cell_type": "markdown",
   "id": "d324c8b4",
   "metadata": {},
   "source": [
    "## 17) Mini *pipeline* de limpieza general"
   ]
  },
  {
   "cell_type": "markdown",
   "id": "dbd2920e",
   "metadata": {},
   "source": [
    "Escribe una función `limpia_basica(s)` que: ponga el texto en minuscula, quite acentos, URLs, menciones y hashtags, puntuación, dígitos y colapse espacios. Aplícala a `df_texto['texto']` y guarda en `texto_limpio_final`."
   ]
  },
  {
   "cell_type": "code",
   "execution_count": 30,
   "id": "df270d15",
   "metadata": {},
   "outputs": [],
   "source": [
    "# Copie su código aca\n",
    "def limpia_basica(s):\n",
    "    if s is None:\n",
    "        return s\n",
    "    s = str(s).lower()\n",
    "    MAP_VOCALES = {\n",
    "        \"á\": \"a\",\n",
    "        \"é\": \"e\",\n",
    "        \"í\": \"i\",\n",
    "        \"ó\": \"o\",\n",
    "        \"ú\": \"u\",\n",
    "        \"ü\": \"u\",\n",
    "    }\n",
    "    translate = str.maketrans(MAP_VOCALES)\n",
    "    s = s.translate(translate)\n",
    "    s = re.sub(r\"https?://\\S+\", \" \", s)\n",
    "    s = re.sub(r\"[@#]\\w+\", \" \", s)\n",
    "    s = re.sub(r\"[^a-z\\sñ]\", \" \", s)\n",
    "    s = re.sub(r\"\\s+\", \" \", s).strip()\n",
    "    return s\n",
    "\n",
    "\n",
    "df_texto[\"texto_limpio_final\"] = df_texto[\"texto\"].apply(limpia_basica)"
   ]
  },
  {
   "cell_type": "code",
   "execution_count": null,
   "id": "8d8f9f79",
   "metadata": {},
   "outputs": [],
   "source": []
  },
  {
   "cell_type": "markdown",
   "id": "721bca89",
   "metadata": {},
   "source": [
    "## 18)¿Qué tanto cambió el texto?"
   ]
  },
  {
   "cell_type": "markdown",
   "id": "4284174d",
   "metadata": {},
   "source": [
    "En el dataframe `df_texto`, \n",
    "\n",
    "Cual es la diferencia entre la longitud original (`len_raw`) y la longitud tras la limpieza (`len_clean`)?"
   ]
  },
  {
   "cell_type": "code",
   "execution_count": 33,
   "id": "9c0c279b",
   "metadata": {},
   "outputs": [
    {
     "data": {
      "text/html": [
       "<div>\n",
       "<style scoped>\n",
       "    .dataframe tbody tr th:only-of-type {\n",
       "        vertical-align: middle;\n",
       "    }\n",
       "\n",
       "    .dataframe tbody tr th {\n",
       "        vertical-align: top;\n",
       "    }\n",
       "\n",
       "    .dataframe thead th {\n",
       "        text-align: right;\n",
       "    }\n",
       "</style>\n",
       "<table border=\"1\" class=\"dataframe\">\n",
       "  <thead>\n",
       "    <tr style=\"text-align: right;\">\n",
       "      <th></th>\n",
       "      <th>texto</th>\n",
       "      <th>texto_limpio_final</th>\n",
       "      <th>longitud_original</th>\n",
       "      <th>longitud_diferenciada</th>\n",
       "    </tr>\n",
       "  </thead>\n",
       "  <tbody>\n",
       "    <tr>\n",
       "      <th>0</th>\n",
       "      <td>¡Hola Mundo!!!  Esto es   un EJEMPLO: visita...</td>\n",
       "      <td>hola mundo esto es un ejemplo visita</td>\n",
       "      <td>84</td>\n",
       "      <td>36</td>\n",
       "    </tr>\n",
       "    <tr>\n",
       "      <th>1</th>\n",
       "      <td>Pandas &gt; numpy? 🤔  Email: persona@example.com</td>\n",
       "      <td>pandas numpy email persona com</td>\n",
       "      <td>48</td>\n",
       "      <td>30</td>\n",
       "    </tr>\n",
       "    <tr>\n",
       "      <th>2</th>\n",
       "      <td>Me gusta el café colombiano; es buenísimo!!! #...</td>\n",
       "      <td>me gusta el cafe colombiano es buenisimo</td>\n",
       "      <td>66</td>\n",
       "      <td>40</td>\n",
       "    </tr>\n",
       "    <tr>\n",
       "      <th>3</th>\n",
       "      <td>Oferta!!! 3x2 en jabón líquido 500ml - CÓDIGO:...</td>\n",
       "      <td>oferta x en jabon liquido ml codigo a</td>\n",
       "      <td>52</td>\n",
       "      <td>37</td>\n",
       "    </tr>\n",
       "    <tr>\n",
       "      <th>4</th>\n",
       "      <td>TABLAS\\t, \\n espacios   y saltos de líne...</td>\n",
       "      <td>tablas espacios y saltos de linea</td>\n",
       "      <td>48</td>\n",
       "      <td>33</td>\n",
       "    </tr>\n",
       "    <tr>\n",
       "      <th>5</th>\n",
       "      <td>Teléfono: (57) 300-123-45-67; Whatsapp +57 300...</td>\n",
       "      <td>telefono whatsapp</td>\n",
       "      <td>56</td>\n",
       "      <td>17</td>\n",
       "    </tr>\n",
       "    <tr>\n",
       "      <th>6</th>\n",
       "      <td>Dirección: Cll 10 # 5-20; Medellín. Barrio: La...</td>\n",
       "      <td>direccion cll medellin barrio la america</td>\n",
       "      <td>54</td>\n",
       "      <td>40</td>\n",
       "    </tr>\n",
       "    <tr>\n",
       "      <th>7</th>\n",
       "      <td>Emoji test: 😀🙌🏽🏳️‍🌈, símbolos ©®™ y otros…</td>\n",
       "      <td>emoji test simbolos y otros</td>\n",
       "      <td>42</td>\n",
       "      <td>27</td>\n",
       "    </tr>\n",
       "  </tbody>\n",
       "</table>\n",
       "</div>"
      ],
      "text/plain": [
       "                                               texto  \\\n",
       "0    ¡Hola Mundo!!!  Esto es   un EJEMPLO: visita...   \n",
       "1   Pandas > numpy? 🤔  Email: persona@example.com      \n",
       "2  Me gusta el café colombiano; es buenísimo!!! #...   \n",
       "3  Oferta!!! 3x2 en jabón líquido 500ml - CÓDIGO:...   \n",
       "4        TABLAS\\t, \\n espacios   y saltos de líne...   \n",
       "5  Teléfono: (57) 300-123-45-67; Whatsapp +57 300...   \n",
       "6  Dirección: Cll 10 # 5-20; Medellín. Barrio: La...   \n",
       "7         Emoji test: 😀🙌🏽🏳️‍🌈, símbolos ©®™ y otros…   \n",
       "\n",
       "                         texto_limpio_final  longitud_original  \\\n",
       "0      hola mundo esto es un ejemplo visita                 84   \n",
       "1            pandas numpy email persona com                 48   \n",
       "2  me gusta el cafe colombiano es buenisimo                 66   \n",
       "3     oferta x en jabon liquido ml codigo a                 52   \n",
       "4         tablas espacios y saltos de linea                 48   \n",
       "5                         telefono whatsapp                 56   \n",
       "6  direccion cll medellin barrio la america                 54   \n",
       "7               emoji test simbolos y otros                 42   \n",
       "\n",
       "   longitud_diferenciada  \n",
       "0                     36  \n",
       "1                     30  \n",
       "2                     40  \n",
       "3                     37  \n",
       "4                     33  \n",
       "5                     17  \n",
       "6                     40  \n",
       "7                     27  "
      ]
     },
     "execution_count": 33,
     "metadata": {},
     "output_type": "execute_result"
    }
   ],
   "source": [
    "# Copie su código aca\n",
    "df_texto[\"longitud_original\"] = df_texto[\"texto\"].str.len()\n",
    "df_texto[\"longitud_diferenciada\"] = df_texto[\"texto_limpio_final\"].str.len()\n",
    "df_texto[\"caracteres_eliminados\"] = (df_texto[\"longitud_original\"] - df_texto[\"longitud_diferenciada\"])\n",
    "df_texto[[\"texto\", \"texto_limpio_final\", \"longitud_original\", \"longitud_diferenciada\"]]"
   ]
  },
  {
   "cell_type": "code",
   "execution_count": null,
   "id": "49ad3fbe",
   "metadata": {},
   "outputs": [],
   "source": []
  },
  {
   "cell_type": "markdown",
   "id": "bcbcdc98",
   "metadata": {},
   "source": [
    "### Guardar de resultados\n",
    "\n",
    "Guarda el dataframe df_texto en parquet con `df_texto.to_parquet('archivo.parquet', index=False)`."
   ]
  },
  {
   "cell_type": "markdown",
   "id": "9db86cb8",
   "metadata": {},
   "source": [
    "**Phd. Jose R. Zapata**\n",
    "- [https://joserzapata.github.io/](https://joserzapata.github.io/)\n",
    "- [https://www.linkedin.com/in/jose-ricardo-zapata-gonzalez/](https://www.linkedin.com/in/jose-ricardo-zapata-gonzalez/)"
   ]
  }
 ],
 "metadata": {
  "kernelspec": {
   "display_name": "template-data-science-container",
   "language": "python",
   "name": "python3"
  },
  "language_info": {
   "codemirror_mode": {
    "name": "ipython",
    "version": 3
   },
   "file_extension": ".py",
   "mimetype": "text/x-python",
   "name": "python",
   "nbconvert_exporter": "python",
   "pygments_lexer": "ipython3",
   "version": "3.12.11"
  }
 },
 "nbformat": 4,
 "nbformat_minor": 5
}
